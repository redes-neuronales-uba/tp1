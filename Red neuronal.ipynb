{
 "cells": [
  {
   "cell_type": "code",
   "execution_count": 39,
   "metadata": {
    "collapsed": true
   },
   "outputs": [],
   "source": [
    "import numpy as np\n",
    "\n",
    "from collections import OrderedDict\n",
    "import matplotlib.pyplot as plt\n",
    "import seaborn as sn\n",
    "\n",
    "%matplotlib inline"
   ]
  },
  {
   "cell_type": "markdown",
   "metadata": {},
   "source": [
    "## Funciones"
   ]
  },
  {
   "cell_type": "markdown",
   "metadata": {},
   "source": [
    "Distribuciones para inicializar los pesos. Son generadores que se inicializan con los parámetros de la distribución, devuelven la distribución que debe aceptar como argumento una tupla con la forma `(filas, columnas)`."
   ]
  },
  {
   "cell_type": "code",
   "execution_count": 40,
   "metadata": {
    "collapsed": true
   },
   "outputs": [],
   "source": [
    "def distribución_uniforme(menor=-.5, mayor=.5):\n",
    "    return lambda forma: np.random.uniform(low=menor, high=mayor, size=forma)"
   ]
  },
  {
   "cell_type": "markdown",
   "metadata": {},
   "source": [
    "Funciones de costo para calcular el error."
   ]
  },
  {
   "cell_type": "code",
   "execution_count": 41,
   "metadata": {
    "collapsed": true
   },
   "outputs": [],
   "source": [
    "def error_cuadrático(objetivo, predicción):\n",
    "    return np.sum( (objetivo - predicción)**2 ) / 2"
   ]
  },
  {
   "cell_type": "markdown",
   "metadata": {},
   "source": [
    "Funciones de activación con sus derivadas. Son generadores que se inicializan con los parámetros de la función, devuelven la función y su derivada, ambas deben aceptar como argumento un arreglo de Numpy."
   ]
  },
  {
   "cell_type": "code",
   "execution_count": 42,
   "metadata": {
    "collapsed": true
   },
   "outputs": [],
   "source": [
    "def escalón():\n",
    "    f = lambda x: np.piecewise(x, [x < 0, x >= 0], [0, 1])\n",
    "    d = lambda x: 1\n",
    "    \n",
    "    return f, d\n",
    "\n",
    "\n",
    "def identidad():\n",
    "    f = lambda x: x\n",
    "    d = lambda x: 1\n",
    "    \n",
    "    return f, d\n",
    "\n",
    "\n",
    "def logística():\n",
    "    f = lambda x: 1 / (1 + np.exp(-x))\n",
    "    d = lambda x: f(x) * (1 - f(x))\n",
    "\n",
    "    return f, d\n",
    "\n",
    "\n",
    "def tanh():\n",
    "    f = np.tanh\n",
    "    d = lambda x: 1 - f(x)**2\n",
    "    \n",
    "    return f, d"
   ]
  },
  {
   "cell_type": "markdown",
   "metadata": {},
   "source": [
    "## Elementos de la red"
   ]
  },
  {
   "cell_type": "markdown",
   "metadata": {},
   "source": [
    "Una **capa** se define en base a cierta cantidad de unidades con una función de activación.\n",
    "\n",
    "En la **propagación** el parámetro `i` representa el valor de entrada a las unidades y el parámetro `o`, el de salida. Cabe notar que a la salida se le agrega el bias de la capa. El bias es _virtual_, no está representado como unidad.\n",
    "\n",
    "```\n",
    "    entrada    función activación    salida\n",
    "                                     | o0 | = 1 (BIAS)\n",
    "    | i1 |                           | o1 |\n",
    "    | i2 | --> f(i) ---------------> | o2 |\n",
    "    | i3 |                           | o3 |\n",
    "```\n",
    "\n",
    "Cuando consideramos la **retropropagación** del error, el sentido inverso utiliza los parámetros `ei` y `eo` para los errores que entran a y salen de la capa, respectivamente.\n",
    "\n",
    "```\n",
    "    salida     derivada activación   entrada\n",
    "                                     | ei0 | = 1 (BIAS)\n",
    "    | eo1 |                          | ei1 |\n",
    "    | eo2 | <- f'(i) · ei <--------- | ei2 |\n",
    "    | eo3 |                          | ei3 |\n",
    "```"
   ]
  },
  {
   "cell_type": "code",
   "execution_count": 60,
   "metadata": {
    "collapsed": false
   },
   "outputs": [],
   "source": [
    "class Capa:\n",
    "    \n",
    "    def __init__(self, activación, unidades):\n",
    "        self.función, self.derivada = activación()\n",
    "        self.unidades = unidades\n",
    "        self.feeds = []\n",
    "        self.backs = []\n",
    "        \n",
    "        \n",
    "    def propagar(self):\n",
    "        Y = self.función(self.i)\n",
    "        self.o = np.insert(Y, 0, 1., axis=1) # agregar vector columna de bias\n",
    "        \n",
    "        for sinapsis in self.feeds: sinapsis.propagar()\n",
    "\n",
    "            \n",
    "    def retropropagar(self, eta):\n",
    "        E = np.delete(self.ei, 0, axis=1) # remover vector columna de bias\n",
    "        self.eo = E * self.derivada(self.i)\n",
    "        \n",
    "        for sinapsis in self.backs: sinapsis.retropropagar(eta)\n",
    "        \n",
    "        \n",
    "    def estado(self):\n",
    "        return np.delete(self.o, 0, axis=1) # remover vector columna de bias\n",
    "    \n",
    "    \n",
    "    def error(self, E):\n",
    "        self.ei = np.insert(E, 0, 1., axis=1) # agregar vector columna de bias"
   ]
  },
  {
   "cell_type": "markdown",
   "metadata": {},
   "source": [
    "Las capas se comunican mediante **sinapsis**. Una sinapsis tiene una capa de _origen_ y una de _destino_, a su vez guarda los pesos de las conexiones entre unidades.\n",
    "\n",
    "Los elementos de la red están pensados para tratar a las muestas como *vectores filas*. En un arreglo bidimensional de varias muestras, cada fila es una muestra y las columnas del arreglo son los distintos atributos. En la bibliografía se suele observar otro camino: las muestras son *vectores columnas*; quizás sea más sencillo para hacer/interpretar cuentas. En la práctica, encontramos a los vectores filas más a tono con la forma de los conjuntos de datos (pensar en un archivo CSV o en una tabla de una base de datos).\n",
    "\n",
    "```\n",
    "    filas    = dim(origen) + 1 (BIAS)\n",
    "    columnas = dim(destino)\n",
    "    \n",
    "    W =  | b00  b01 |  matriz de pesos de una sinapsis que conecta una capa de 3 unidades (origen) con otra de 2 (destino)\n",
    "         | w10  w11 |  la primera fila corresponde a los pesos del bias\n",
    "         | w20  w21 |\n",
    "         | w30  w31 |\n",
    "         \n",
    "    Y =  | 1  a1  a2  a3 |  actividad de salida de la capa de origen, 2 muestras con 3 atributos y bias (primera columna)\n",
    "         | 1  b1  b2  b3 |\n",
    "         \n",
    "    Z =  Y · W =  | a'1  a'2 |  la actividad de entrada a la capa de destino entonces se calcula\n",
    "                  | b'1  b'2 |  como el producto interno entre la salida (Y) y los pesos (W)\n",
    "```"
   ]
  },
  {
   "cell_type": "code",
   "execution_count": 61,
   "metadata": {
    "collapsed": true
   },
   "outputs": [],
   "source": [
    "class Sinapsis:\n",
    "  \n",
    "    def __init__(self, origen, destino, inicialización):\n",
    "        self.origen  = origen\n",
    "        self.destino = destino\n",
    "        self.inicialización = inicialización\n",
    "        self.forma   = (origen.unidades + 1, destino.unidades)      \n",
    "        \n",
    "        \n",
    "    def inicializar(self):\n",
    "        self.W = self.inicialización(self.forma)\n",
    "        \n",
    "        \n",
    "    def propagar(self):\n",
    "        Y = self.origen.o # actividad de la capa anterior\n",
    "        self.destino.i = np.dot(Y, self.W)\n",
    "        \n",
    "    \n",
    "    def retropropagar(self, eta):\n",
    "        E = self.destino.eo # error de la capa posterior        \n",
    "        self.origen.ei = np.dot(E, self.W.T)\n",
    "        self.ajustar_pesos(eta)\n",
    "        \n",
    "          \n",
    "    def ajustar_pesos(self, eta):\n",
    "        Y = self.origen.o # actividad de la capa anterior\n",
    "        E = self.destino.eo # error de la capa posterior\n",
    "        \n",
    "        self.W += eta * np.dot(Y.T, E)"
   ]
  },
  {
   "cell_type": "markdown",
   "metadata": {},
   "source": [
    "Las siguientes funciones se utilizan durante el entrenamiento."
   ]
  },
  {
   "cell_type": "code",
   "execution_count": 72,
   "metadata": {
    "collapsed": true
   },
   "outputs": [],
   "source": [
    "def lotes(X, y, n):\n",
    "    for i in range(0, len(X), n):\n",
    "        yield X[i:i+n], y[i:i+n]\n",
    "\n",
    "        \n",
    "def barajar(X, y):\n",
    "    e = np.random.get_state()\n",
    "    X = np.random.permutation(X)\n",
    "    np.random.set_state(e)\n",
    "    y = np.random.permutation(y)\n",
    "    \n",
    "    return X, y\n",
    "\n",
    "\n",
    "def graficar(evolución_error):\n",
    "    plt.plot(evolución_error)\n",
    "    plt.xlabel('épocas')\n",
    "    plt.ylabel('error')"
   ]
  },
  {
   "cell_type": "code",
   "execution_count": 79,
   "metadata": {
    "collapsed": false
   },
   "outputs": [],
   "source": [
    "class Red:\n",
    "\n",
    "    def __init__(self, *capas, conexiones=None, inicialización=distribución_uniforme()):\n",
    "        self.capas    = OrderedDict()\n",
    "        self.sinapsis = OrderedDict()\n",
    "        \n",
    "        # instanciación de capas\n",
    "        for (id, activación, unidades) in capas:\n",
    "            self.capas[id] = Capa(activación, unidades)        \n",
    "            \n",
    "        # instanciación de sinapsis\n",
    "        for (id_origen, id_destino, inicialización) in conexiones or self.__conexiones_defecto__(inicialización):\n",
    "            origen   = self.capas[id_origen]\n",
    "            destino  = self.capas[id_destino]\n",
    "            \n",
    "            sinapsis = self.sinapsis[(id_origen, id_destino)] = Sinapsis(origen, destino, inicialización)\n",
    "            \n",
    "            origen.feeds.append(sinapsis)\n",
    "            destino.backs.append(sinapsis)\n",
    "            \n",
    "            \n",
    "    def __conexiones_defecto__(self, inicialización):\n",
    "        id_capas = list(self.capas.keys())\n",
    "        \n",
    "        for id_origen, id_destino in zip(id_capas, id_capas[1:]):\n",
    "            yield id_origen, id_destino, inicialización\n",
    "\n",
    "            \n",
    "    def entrenar(self, X, y, eta=0.7, épocas=1000, tamaño_lote=1, tolerancia=1e-3, costo=error_cuadrático):\n",
    "        for sinapsis in self.sinapsis.values(): sinapsis.inicializar()\n",
    "        \n",
    "        self.evolución_error = []\n",
    "        \n",
    "        for época in range(épocas):\n",
    "            _X, _y = barajar(X, y)\n",
    "            \n",
    "            y_pred = np.concatenate(\n",
    "                [self.__aprender__(lote_X, lote_y, eta) for lote_X, lote_y in lotes(_X, _y, tamaño_lote)]\n",
    "            )\n",
    "            \n",
    "            error = costo(_y, y_pred)\n",
    "            self.evolución_error.append(error)\n",
    "            \n",
    "            if error <= tolerancia: return self\n",
    "       \n",
    "        print('NO CONVERGE')\n",
    "            \n",
    "            \n",
    "    def __aprender__(self, X, y_obj, eta):\n",
    "        y_pred = self.predecir(X)\n",
    "        \n",
    "        self.capas['salida'].error(y_obj - y_pred) \n",
    "        \n",
    "        for _, capa in reversed(self.capas.items()): capa.retropropagar(eta)\n",
    "        \n",
    "        return y_pred\n",
    "        \n",
    "    \n",
    "    def predecir(self, X):\n",
    "        self.capas['entrada'].i = X\n",
    "        \n",
    "        for _, capa in self.capas.items(): capa.propagar()\n",
    "        \n",
    "        return self.capas['salida'].estado()"
   ]
  },
  {
   "cell_type": "markdown",
   "metadata": {},
   "source": [
    "## Pruebas"
   ]
  },
  {
   "cell_type": "code",
   "execution_count": 66,
   "metadata": {
    "collapsed": true
   },
   "outputs": [],
   "source": [
    "X = np.array([[1, 1],\n",
    "              [1, 0],\n",
    "              [0, 1],\n",
    "              [0, 0]])\n",
    "\n",
    "y = np.array([[1, 1, 0],\n",
    "              [0, 1, 1],\n",
    "              [0, 1, 1],\n",
    "              [0, 0, 0]])"
   ]
  },
  {
   "cell_type": "code",
   "execution_count": 67,
   "metadata": {
    "collapsed": false
   },
   "outputs": [],
   "source": [
    "rn = Red( ('entrada', identidad, 2), ('oculta', logística, 2), ('salida', escalón, 3) )"
   ]
  },
  {
   "cell_type": "code",
   "execution_count": 80,
   "metadata": {
    "collapsed": false
   },
   "outputs": [
    {
     "data": {
      "image/png": "[encoded data removed]",
      "text/plain": [
       "<matplotlib.figure.Figure at 0x7f56f3ee2550>"
      ]
     },
     "metadata": {},
     "output_type": "display_data"
    }
   ],
   "source": [
    "rn.entrenar(X, y, épocas=10000)\n",
    "\n",
    "graficar(rn.evolución_error)"
   ]
  }
 ],
 "metadata": {
  "kernelspec": {
   "display_name": "Python 3",
   "language": "python",
   "name": "python3"
  },
  "language_info": {
   "codemirror_mode": {
    "name": "ipython",
    "version": 3
   },
   "file_extension": ".py",
   "mimetype": "text/x-python",
   "name": "python",
   "nbconvert_exporter": "python",
   "pygments_lexer": "ipython3",
   "version": "3.5.2"
  }
 },
 "nbformat": 4,
 "nbformat_minor": 2
}
