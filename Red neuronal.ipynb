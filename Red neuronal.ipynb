{
 "cells": [
  {
   "cell_type": "code",
   "execution_count": 1,
   "metadata": {
    "collapsed": false
   },
   "outputs": [],
   "source": [
    "import numpy as np\n",
    "\n",
    "from collections import OrderedDict\n",
    "import matplotlib.pyplot as plt\n",
    "import seaborn as sn\n",
    "\n",
    "%matplotlib inline"
   ]
  },
  {
   "cell_type": "markdown",
   "metadata": {},
   "source": [
    "## Funciones"
   ]
  },
  {
   "cell_type": "markdown",
   "metadata": {},
   "source": [
    "Funciones de costo para calcular el error."
   ]
  },
  {
   "cell_type": "code",
   "execution_count": 2,
   "metadata": {
    "collapsed": true
   },
   "outputs": [],
   "source": [
    "def error_cuadrático_medio(objetivo, predicción):\n",
    "    return np.mean( (objetivo - predicción)**2 ) / 2"
   ]
  },
  {
   "cell_type": "markdown",
   "metadata": {},
   "source": [
    "Funciones de activación con sus derivadas. Son generadores que se inicializan con los parámetros de la función, devuelven la función y su derivada, ambas deben aceptar como argumento un arreglo de Numpy."
   ]
  },
  {
   "cell_type": "code",
   "execution_count": 3,
   "metadata": {
    "collapsed": true
   },
   "outputs": [],
   "source": [
    "def escalón():\n",
    "    f = lambda x: np.piecewise(x, [x < 0, x >= 0], [0, 1])\n",
    "    d = lambda x: 1\n",
    "    \n",
    "    return f, d\n",
    "\n",
    "\n",
    "def identidad():\n",
    "    f = lambda x: x\n",
    "    d = lambda x: 1\n",
    "    \n",
    "    return f, d\n",
    "\n",
    "\n",
    "def relu():\n",
    "    f = lambda x: np.maximum(0, x)\n",
    "    d = lambda x: np.piecewise(x, [x <= 0, x > 0], [0, 1])\n",
    "\n",
    "    return f, d\n",
    "\n",
    "\n",
    "# leaky ReLU, la derivada para x <= 0 no es nula sino un valor pequeño\n",
    "def lrelu():\n",
    "    f = lambda x: np.maximum(0, x)\n",
    "    d = lambda x: np.piecewise(x, [x <= 0, x > 0], [0.01, 1])\n",
    "\n",
    "    return f, d\n",
    "\n",
    "\n",
    "def logística():\n",
    "    f = lambda x: 1 / (1 + np.exp(-x))\n",
    "    d = lambda x: f(x) * (1 - f(x))\n",
    "\n",
    "    return f, d\n",
    "\n",
    "\n",
    "def tanh():\n",
    "    f = np.tanh\n",
    "    d = lambda x: 1 - f(x)**2\n",
    "    \n",
    "    return f, d"
   ]
  },
  {
   "cell_type": "markdown",
   "metadata": {},
   "source": [
    "## Elementos de la red"
   ]
  },
  {
   "cell_type": "markdown",
   "metadata": {},
   "source": [
    "Una **capa** se define en base a cierta cantidad de unidades con una función de activación.\n",
    "\n",
    "En la **propagación** el parámetro `i` representa el valor de entrada a las unidades y el parámetro `o`, el de salida. Cabe notar que a la salida se le agrega el bias de la capa. El bias es _virtual_, no está representado como unidad.\n",
    "\n",
    "```\n",
    "    entrada    función activación    salida\n",
    "                                     | o0 | = 1 (BIAS)\n",
    "    | i1 |                           | o1 |\n",
    "    | i2 | --> f(i) ---------------> | o2 |\n",
    "    | i3 |                           | o3 |\n",
    "```\n",
    "\n",
    "Cuando consideramos la **retropropagación** del error, el sentido inverso utiliza los parámetros `ei` y `eo` para los errores que entran a y salen de la capa, respectivamente.\n",
    "\n",
    "```\n",
    "    salida     derivada activación   entrada\n",
    "                                     | ei0 | = 1 (BIAS)\n",
    "    | eo1 |                          | ei1 |\n",
    "    | eo2 | <- f'(i) · ei <--------- | ei2 |\n",
    "    | eo3 |                          | ei3 |\n",
    "```"
   ]
  },
  {
   "cell_type": "code",
   "execution_count": 4,
   "metadata": {
    "collapsed": false
   },
   "outputs": [],
   "source": [
    "class Capa:\n",
    "    \n",
    "    def __init__(self, activación, unidades):\n",
    "        self.función, self.derivada = activación()\n",
    "        self.unidades = unidades\n",
    "        self.feeds = []\n",
    "        self.backs = []\n",
    "        \n",
    "        \n",
    "    def propagar(self):\n",
    "        Y = self.función(self.i)\n",
    "        self.o = np.insert(Y, 0, 1., axis=1) # agregar vector columna de bias\n",
    "        \n",
    "        for sinapsis in self.feeds: sinapsis.propagar()\n",
    "\n",
    "            \n",
    "    def retropropagar(self, eta, mu):\n",
    "        E = np.delete(self.ei, 0, axis=1) # remover vector columna de bias\n",
    "        self.eo = E * self.derivada(self.i)\n",
    "        \n",
    "        for sinapsis in self.backs: sinapsis.retropropagar(eta, mu)\n",
    "        \n",
    "        \n",
    "    def estado(self):\n",
    "        return np.delete(self.o, 0, axis=1) # remover vector columna de bias\n",
    "    \n",
    "    \n",
    "    def error(self, E):\n",
    "        self.ei = np.insert(E, 0, 1., axis=1) # agregar vector columna de bias"
   ]
  },
  {
   "cell_type": "markdown",
   "metadata": {},
   "source": [
    "Las capas se comunican mediante **sinapsis**. Una sinapsis tiene una capa de _origen_ y una de _destino_, a su vez guarda los pesos de las conexiones entre unidades.\n",
    "\n",
    "Los elementos de la red están pensados para tratar a las muestas como *vectores filas*. En un arreglo bidimensional de varias muestras, cada fila es una muestra y las columnas del arreglo son los distintos atributos. En la bibliografía se suele observar otro camino: las muestras son *vectores columnas*; quizás sea más sencillo para hacer/interpretar cuentas. En la práctica, encontramos a los vectores filas más a tono con la forma de los conjuntos de datos (pensar en un archivo CSV o en una tabla de una base de datos).\n",
    "\n",
    "```\n",
    "    filas    = dim(origen) + 1 (BIAS)\n",
    "    columnas = dim(destino)\n",
    "    \n",
    "    W =  | b00  b01 |  matriz de pesos de una sinapsis que conecta una capa de 3 unidades (origen) con otra de 2 (destino)\n",
    "         | w10  w11 |  la primera fila corresponde a los pesos del bias\n",
    "         | w20  w21 |\n",
    "         | w30  w31 |\n",
    "         \n",
    "    Y =  | 1  a1  a2  a3 |  actividad de salida de la capa de origen, 2 muestras con 3 atributos y bias (primera columna)\n",
    "         | 1  b1  b2  b3 |\n",
    "         \n",
    "    Z =  Y · W =  | a'1  a'2 |  la actividad de entrada a la capa de destino entonces se calcula\n",
    "                  | b'1  b'2 |  como el producto interno entre la salida (Y) y los pesos (W)\n",
    "```"
   ]
  },
  {
   "cell_type": "code",
   "execution_count": 5,
   "metadata": {
    "collapsed": true
   },
   "outputs": [],
   "source": [
    "class Sinapsis:\n",
    "  \n",
    "    def __init__(self, origen, destino, inicialización):\n",
    "        self.origen  = origen\n",
    "        self.destino = destino\n",
    "        \n",
    "        forma        = (origen.unidades + 1, destino.unidades)\n",
    "        \n",
    "        self.V_prev  = np.zeros(forma)\n",
    "        self.V       = np.zeros(forma)\n",
    "        self.W       = np.random.uniform(low=inicialización[0], high=inicialización[1], size=forma)\n",
    "        \n",
    "        \n",
    "    def propagar(self):\n",
    "        Y = self.origen.o # actividad de la capa anterior\n",
    "        self.destino.i = np.dot(Y, self.W)\n",
    "        \n",
    "    \n",
    "    def retropropagar(self, eta, mu):\n",
    "        E = self.destino.eo # error de la capa posterior        \n",
    "        self.origen.ei = np.dot(E, self.W.T)\n",
    "        self.ajustar_pesos(eta, mu)\n",
    "        \n",
    "          \n",
    "    def ajustar_pesos(self, eta, mu):\n",
    "        \"\"\"http://cs231n.github.io/neural-networks-3/\n",
    "        \n",
    "        Momento\n",
    "        v = mu * v - learning_rate * dx    # integrate velocity\n",
    "        x += v                             # integrate position\n",
    "\n",
    "        Momento de Nesterov\n",
    "        v_prev = v                         # back this up\n",
    "        v = mu * v - learning_rate * dx    # velocity update stays the same\n",
    "        x += -mu * v_prev + (1 + mu) * v   # position update changes form\n",
    "\n",
    "        Recommended annealing schedules for mu: 0.5, 0.9, 0.95, 0.99\n",
    "        \"\"\"\n",
    "        \n",
    "        Y = self.origen.o # actividad de la capa anterior\n",
    "        E = self.destino.eo # error de la capa posterior\n",
    "        \n",
    "        self.V_prev = self.V\n",
    "        self.V = mu * self.V + eta * np.dot(Y.T, E) \n",
    "        self.W += -mu * self.V_prev + (1 + mu) * self.V"
   ]
  },
  {
   "cell_type": "markdown",
   "metadata": {},
   "source": [
    "Las siguientes funciones se utilizan durante el entrenamiento."
   ]
  },
  {
   "cell_type": "code",
   "execution_count": 6,
   "metadata": {
    "collapsed": true
   },
   "outputs": [],
   "source": [
    "def lotes(X, y, n):\n",
    "    if n < 1: n = len(X)\n",
    "    \n",
    "    for i in range(0, len(X), n):\n",
    "        yield X[i:i+n], y[i:i+n]\n",
    "\n",
    "        \n",
    "def barajar(X, y):\n",
    "    e = np.random.get_state()\n",
    "    X = np.random.permutation(X)\n",
    "    np.random.set_state(e)\n",
    "    y = np.random.permutation(y)\n",
    "    \n",
    "    return X, y\n",
    "\n",
    "\n",
    "def graficar(evolución_error):\n",
    "    p, = plt.plot(evolución_error)\n",
    "    plt.yscale('log')\n",
    "    plt.xlabel('épocas')\n",
    "    plt.ylabel('error')\n",
    "    return p"
   ]
  },
  {
   "cell_type": "code",
   "execution_count": 9,
   "metadata": {
    "collapsed": true
   },
   "outputs": [],
   "source": [
    "from sklearn.base import BaseEstimator\n",
    "from sklearn.metrics import accuracy_score\n",
    "from sklearn.preprocessing import binarize\n",
    "import copy\n",
    "\n",
    "class Red(BaseEstimator):\n",
    "\n",
    "    def __init__(self, activación=logística, inicialización=(-1,1), capas_ocultas=(),\n",
    "                 tamaño_lote=1, factor_aprendizaje=0.01, épocas=1000, tolerancia=1e-4,\n",
    "                 early_stopping=False, factor_momento=0, factor_decaimiento=1, épocas_delta=-1):\n",
    "        \n",
    "        self.activación = activación\n",
    "        self.inicialización = inicialización\n",
    "        self.capas_ocultas = capas_ocultas\n",
    "        self.tamaño_lote = tamaño_lote\n",
    "        self.factor_aprendizaje = factor_aprendizaje\n",
    "        self.épocas = épocas\n",
    "        self.tolerancia = tolerancia\n",
    "        self.early_stopping = early_stopping\n",
    "        self.factor_momento = factor_momento\n",
    "        self.factor_decaimiento = factor_decaimiento\n",
    "        self.épocas_delta = épocas_delta\n",
    "    \n",
    "    \n",
    "    def _inicializar(self, capas, conexiones):\n",
    "        self.capas    = OrderedDict()\n",
    "        self.sinapsis = OrderedDict()\n",
    "        \n",
    "        # instanciación de capas\n",
    "        for (id, activación, unidades) in capas:\n",
    "            self.capas[id] = Capa(activación, unidades)        \n",
    "            \n",
    "        # instanciación de sinapsis\n",
    "        for (id_origen, id_destino, inicialización) in conexiones:\n",
    "            origen   = self.capas[id_origen]\n",
    "            destino  = self.capas[id_destino]\n",
    "            \n",
    "            sinapsis = self.sinapsis[(id_origen, id_destino)] = Sinapsis(origen, destino, inicialización)\n",
    "            \n",
    "            origen.feeds.append(sinapsis)\n",
    "            destino.backs.append(sinapsis)        \n",
    "    \n",
    "    \n",
    "    def fit(self, X, y):\n",
    "        # asegurarse de que 'y' sea 2D\n",
    "        if y.ndim == 1:\n",
    "            y = y.reshape((-1, 1))\n",
    "        \n",
    "        n_entradas = X.shape[1]\n",
    "        n_salidas  = y.shape[1]\n",
    "        \n",
    "        self._inicializar(*self._preinicializar(n_entradas, n_salidas))\n",
    "        \n",
    "        self.evolución_error = []\n",
    "        self.evolución_validación = []\n",
    "        self.convergencia = False\n",
    "        \n",
    "        eta = self.factor_aprendizaje\n",
    "        \n",
    "        if self.early_stopping:\n",
    "            X, X_val, y, y_val = train_test_split(X, y, test_size=0.3)\n",
    "        \n",
    "        \n",
    "        for época in range(self.épocas):\n",
    "            _X, _y = barajar(X, y)\n",
    "            \n",
    "            if self.épocas_decaimiento > 0 and época % self.épocas_decaimiento == 0:\n",
    "                eta *= self.factor_decaimiento\n",
    "            \n",
    "            y_pred = np.concatenate(\n",
    "                [self._aprender(lote_X, lote_y, eta, self.factor_momento) \\\n",
    "                 for lote_X, lote_y in lotes(_X, _y, self.tamaño_lote)]\n",
    "            )\n",
    "            \n",
    "            error = error_cuadrático_medio(_y, y_pred)\n",
    "            \n",
    "            if self.adaptivo and época > 0 and época % self.épocas_delta == 0:\n",
    "                \n",
    "                if self.evolución_error[-self.épocas_delta] < error:\n",
    "                    del self.evolución_error[-self.épocas_delta+1:]\n",
    "                    del self.evolución_validación[-self.épocas_delta+1:]\n",
    "                    self.sinapsis = self.foto\n",
    "            \n",
    "            self.evolución_error.append(error)\n",
    "                \n",
    "            if self.early_stopping:\n",
    "                error_validación = error_cuadrático_medio(y_val, self.predict(X_val))\n",
    "                \n",
    "                if época > 0 and época % self.épocas_delta == 0 \\\n",
    "                and self.evolución_validación[-self.épocas_delta] < error_validación:\n",
    "                    \n",
    "                    del self.evolución_error[-self.épocas_delta:] # el arreglo tiene un elemento más\n",
    "                    del self.evolución_validación[-self.épocas_delta+1:]\n",
    "                    self.sinapsis = self.foto\n",
    "                    break\n",
    "                \n",
    "                self.evolución_validación.append(error_validación)\n",
    "                \n",
    "                \n",
    "            if error <= self.tolerancia:\n",
    "                self.convergencia = True\n",
    "                break\n",
    "                \n",
    "            if self.épocas_delta > 0 and época % self.épocas_delta == 0:\n",
    "                self.foto = copy.deepcopy(self.sinapsis)\n",
    "        \n",
    "        return self\n",
    "       \n",
    "                 \n",
    "    def _aprender(self, X, y_obj, eta, mu):\n",
    "        y_pred = self.predict(X)\n",
    "        \n",
    "        self.capas['salida'].error(y_obj - y_pred) \n",
    "        \n",
    "        for _, capa in reversed(self.capas.items()): capa.retropropagar(eta, mu)\n",
    "        \n",
    "        return y_pred\n",
    "        \n",
    "    \n",
    "    def predict(self, X):\n",
    "        self.capas['entrada'].i = X\n",
    "        \n",
    "        for _, capa in self.capas.items(): capa.propagar()\n",
    "        \n",
    "        return self.capas['salida'].estado()"
   ]
  },
  {
   "cell_type": "code",
   "execution_count": 31,
   "metadata": {
    "collapsed": false
   },
   "outputs": [
    {
     "data": {
      "text/plain": [
       "[0, 1, 2, 3, 4]"
      ]
     },
     "execution_count": 31,
     "metadata": {},
     "output_type": "execute_result"
    }
   ],
   "source": [
    "a=[0,1,2,3,4,5,6]\n",
    "del a[-2:]\n",
    "a"
   ]
  },
  {
   "cell_type": "code",
   "execution_count": 18,
   "metadata": {
    "collapsed": false
   },
   "outputs": [
    {
     "ename": "SyntaxError",
     "evalue": "invalid syntax (<ipython-input-18-c4cfb8231f0a>, line 1)",
     "output_type": "error",
     "traceback": [
      "\u001b[0;36m  File \u001b[0;32m\"<ipython-input-18-c4cfb8231f0a>\"\u001b[0;36m, line \u001b[0;32m1\u001b[0m\n\u001b[0;31m    if True and\u001b[0m\n\u001b[0m                ^\u001b[0m\n\u001b[0;31mSyntaxError\u001b[0m\u001b[0;31m:\u001b[0m invalid syntax\n"
     ]
    }
   ],
   "source": [
    "if True and \n",
    "    False: pass"
   ]
  },
  {
   "cell_type": "code",
   "execution_count": 8,
   "metadata": {
    "collapsed": false
   },
   "outputs": [],
   "source": [
    "class Clasificador(Red):\n",
    "    \n",
    "    def _preinicializar(self, n_entradas, n_salidas):\n",
    "        capas = [('entrada', identidad, n_entradas)]\n",
    "        \n",
    "        for i, n_unidades in enumerate(self.capas_ocultas):\n",
    "            id_capa = 'oculta_%s' % (i + 1)\n",
    "            capa = (id_capa, self.activación, n_unidades)\n",
    "            capas.append(capa)\n",
    "        \n",
    "        capas.append( ('salida', self.activación, n_salidas) )\n",
    "        \n",
    "        conexiones = \\\n",
    "        [(capa_origen[0], capa_destino[0], self.inicialización) for capa_origen, capa_destino in zip(capas, capas[1:])]\n",
    "\n",
    "        return capas, conexiones\n",
    "        \n",
    "    \n",
    "    def score(self, X, y):\n",
    "        return accuracy_score(y, binarize(self.predict(X), threshold=0.5))\n",
    "    \n",
    "    \n",
    "class Regresor(Red):\n",
    "\n",
    "    def _preinicializar(self, n_entradas, n_salidas):\n",
    "        capas = [('entrada', identidad, n_entradas)]\n",
    "        \n",
    "        for i, n_unidades in enumerate(self.capas_ocultas):\n",
    "            id_capa = 'oculta_%s' % (i + 1)\n",
    "            capa = (id_capa, self.activación, n_unidades)\n",
    "            capas.append(capa)\n",
    "        \n",
    "        capas.append( ('salida', identidad, n_salidas) )\n",
    "        \n",
    "        conexiones = \\\n",
    "        [(capa_origen[0], capa_destino[0], self.inicialización) for capa_origen, capa_destino in zip(capas, capas[1:])]\n",
    "\n",
    "        return capas, conexiones\n",
    "        \n",
    "    \n",
    "    def score(self, X, y):\n",
    "        return error_cuadrático_medio(y, self.predict(X))"
   ]
  },
  {
   "cell_type": "markdown",
   "metadata": {},
   "source": [
    "## Pruebas"
   ]
  },
  {
   "cell_type": "code",
   "execution_count": 349,
   "metadata": {
    "collapsed": true
   },
   "outputs": [],
   "source": [
    "X = np.array([[1, 1],\n",
    "              [1, 0],\n",
    "              [0, 1],\n",
    "              [0, 0]])\n",
    "\n",
    "y = np.array([[1, 1, 0],\n",
    "              [0, 1, 1],\n",
    "              [0, 1, 1],\n",
    "              [0, 0, 0]])"
   ]
  },
  {
   "cell_type": "code",
   "execution_count": 350,
   "metadata": {
    "collapsed": false
   },
   "outputs": [
    {
     "name": "stdout",
     "output_type": "stream",
     "text": [
      "convergencia False\n"
     ]
    },
    {
     "data": {
      "image/png": "[encoded data removed]",
      "text/plain": [
       "<matplotlib.figure.Figure at 0x7f56f78851d0>"
      ]
     },
     "metadata": {},
     "output_type": "display_data"
    }
   ],
   "source": [
    "rn = Red().fit(X, y)\n",
    "print('convergencia', rn.convergencia)\n",
    "graficar(rn.evolución_error)\n",
    "#plt.savefig('error.png')"
   ]
  },
  {
   "cell_type": "markdown",
   "metadata": {},
   "source": [
    "## Experimentos"
   ]
  },
  {
   "cell_type": "code",
   "execution_count": null,
   "metadata": {
    "collapsed": true
   },
   "outputs": [],
   "source": [
    "import numpy as np\n",
    "from sklearn.model_selection import train_test_split\n",
    "from sklearn.preprocessing   import StandardScaler\n",
    "from sklearn.preprocessing   import LabelBinarizer\n",
    "from sklearn.pipeline        import make_pipeline\n",
    "\n",
    "tp1 = 'tp1_ej1_training.csv'\n",
    "tp2 = 'tp1_ej2_training.csv'\n",
    "\n",
    "X_tp1 = np.loadtxt(tp1, dtype='float', delimiter=',', usecols=range(1,10))\n",
    "y_tp1 = np.loadtxt(tp1, dtype='str',   delimiter=',', usecols=(0,))\n",
    "\n",
    "X_tp2 = np.loadtxt(tp2, delimiter=',', usecols=(0,1,2,3,4,5))\n",
    "y_tp2 = np.loadtxt(tp2, delimiter=',', usecols=(6,7))\n",
    "\n",
    "# transforma las etiquetas 'B' y 'M' a ceros y unos\n",
    "binarizer = LabelBinarizer()\n",
    "y_tp1 = binarizer.fit_transform(y_tp1)\n",
    "\n",
    "# partición del conjunto de datos en conjuntos de entrenamiento (70%) y prueba (30%)\n",
    "X_train, X_test, y_train, y_test = train_test_split(X_tp1, y_tp1, test_size=0.3, random_state=42)"
   ]
  },
  {
   "cell_type": "code",
   "execution_count": 351,
   "metadata": {
    "collapsed": true
   },
   "outputs": [],
   "source": [
    "# transformación de los datos: se remueve la media y se lleva la varianza a la unidad\n",
    "# en base a las propiedades del conjunto de entrenamiento\n",
    "\n",
    "#scaler = StandardScaler()\n",
    "\n",
    "#rn = Red(capas_ocultas=[9], tamaño_lote=10, factor_aprendizaje=.35, épocas=3000)\n",
    "\n",
    "#clf = make_pipeline(scaler, rn)\n",
    "#clf.fit(X_train, y_train)\n",
    "\n",
    "#print('efectividad', clf.score(X_test, y_test))\n",
    "#print('error', rn.evolución_error[-1])\n",
    "#print('épocas', len(rn.evolución_error))\n",
    "#print('convergencia', rn.convergencia)\n",
    "#graficar(rn.evolución_error)"
   ]
  },
  {
   "cell_type": "markdown",
   "metadata": {},
   "source": [
    "### Grid search"
   ]
  },
  {
   "cell_type": "code",
   "execution_count": 470,
   "metadata": {
    "collapsed": false
   },
   "outputs": [],
   "source": [
    "from sklearn.model_selection import GridSearchCV\n",
    "\n",
    "estimador = make_pipeline(StandardScaler(), Red())\n",
    "\n",
    "grilla = {       \n",
    "                  'red__activación': [logística, relu],\n",
    "              'red__inicialización': [(-0.1, 0.1),\n",
    "                                      (-1.0, 1.0),\n",
    "                                      ( 0.0, 1.0),\n",
    "                                      ( 0.5, 0.5)],\n",
    "               'red__capas_ocultas': [[6], [9], [9,9], [12]],\n",
    "                 'red__tamaño_lote': [-1, 1, 10],\n",
    "          'red__factor_aprendizaje': [.9, .5, .1, .01]\n",
    "}"
   ]
  },
  {
   "cell_type": "code",
   "execution_count": 443,
   "metadata": {
    "collapsed": true
   },
   "outputs": [
    {
     "data": {
      "text/plain": [
       "GridSearchCV(cv=5, error_score='raise',\n",
       "       estimator=Pipeline(steps=[('standardscaler', StandardScaler(copy=True, with_mean=True, with_std=True)), ('red', Red(activación=<function logística at 0x7f56f0af2e18>, capas_ocultas=(),\n",
       "  factor_aprendizaje=0.01, inicialización={}, tamaño_lote=1,\n",
       "  tolerancia=0.0001, épocas=1000))]),\n",
       "       fit_params={}, iid=True, n_jobs=-1,\n",
       "       param_grid={'red__tamaño_lote': [-1, 1, 10], 'red__inicialización': [{'mayor': 0.1, 'menor': -0.1}, {'mayor': 1.0, 'menor': -1.0}, {'mayor': 1.0, 'menor': 0.0}, {'mayor': 0.5, 'menor': 0.5}], 'red__activación': [<function logística at 0x7f56f0af2e18>, <function relu at 0x7f56f3e82c80>], 'red__factor_aprendizaje': [0.9, 0.5, 0.1, 0.01], 'red__capas_ocultas': [[6], [9], [9, 9], [12]]},\n",
       "       pre_dispatch='2*n_jobs', refit=True, return_train_score=True,\n",
       "       scoring=None, verbose=0)"
      ]
     },
     "execution_count": 443,
     "metadata": {},
     "output_type": "execute_result"
    }
   ],
   "source": [
    "#clf = GridSearchCV(estimador, grilla, cv=5, n_jobs=-1)\n",
    "#clf.fit(X_train, y_train)"
   ]
  },
  {
   "cell_type": "code",
   "execution_count": 464,
   "metadata": {
    "collapsed": false
   },
   "outputs": [
    {
     "data": {
      "image/png": "[encoded data removed]",
      "text/plain": [
       "<matplotlib.figure.Figure at 0x7f56f29f26d8>"
      ]
     },
     "metadata": {},
     "output_type": "display_data"
    }
   ],
   "source": [
    "#graficar(clf.best_estimator_.named_steps['red'].evolución_error)\n",
    "#plt.savefig('error_mejor_estimador.png')"
   ]
  },
  {
   "cell_type": "code",
   "execution_count": 452,
   "metadata": {
    "collapsed": false
   },
   "outputs": [],
   "source": [
    "#import pickle\n",
    "\n",
    "#with open('resultados_ej1.pickle', 'wb') as f:\n",
    "#    pickle.dump(clf.cv_results_, f)"
   ]
  },
  {
   "cell_type": "markdown",
   "metadata": {},
   "source": [
    "## Early-stopping, momento, hiperparámetros adaptativos"
   ]
  },
  {
   "cell_type": "code",
   "execution_count": 571,
   "metadata": {
    "collapsed": false
   },
   "outputs": [
    {
     "name": "stdout",
     "output_type": "stream",
     "text": [
      "accuracy 0.869918699187\n"
     ]
    },
    {
     "data": {
      "image/png": "[encoded data removed]",
      "text/plain": [
       "<matplotlib.figure.Figure at 0x7f56e2b73b00>"
      ]
     },
     "metadata": {},
     "output_type": "display_data"
    }
   ],
   "source": [
    "rn = Red(early_stopping=True,\n",
    "         capas_ocultas=[12],\n",
    "         tamaño_lote=10,\n",
    "         épocas=2000,\n",
    "         tolerancia=1e-6,\n",
    "         factor_aprendizaje=0.99,\n",
    "         factor_momento=0.5,\n",
    "         factor_decaimiento=0.9,\n",
    "         épocas_decaimiento=50)\n",
    "\n",
    "pipe = make_pipeline(StandardScaler(), rn)\n",
    "pipe.fit(X_train, y_train)\n",
    "\n",
    "print('accuracy', est.score(X_test, y_test))\n",
    "\n",
    "e = graficar(rn.evolución_error)\n",
    "v = graficar(rn.evolución_validación)\n",
    "plt.legend([v, e], ['validación', 'entrenamiento'])\n",
    "\n",
    "plt.savefig('early-stopping.png')"
   ]
  }
 ],
 "metadata": {
  "kernelspec": {
   "display_name": "Python 3",
   "language": "python",
   "name": "python3"
  },
  "language_info": {
   "codemirror_mode": {
    "name": "ipython",
    "version": 3
   },
   "file_extension": ".py",
   "mimetype": "text/x-python",
   "name": "python",
   "nbconvert_exporter": "python",
   "pygments_lexer": "ipython3",
   "version": "3.5.2"
  }
 },
 "nbformat": 4,
 "nbformat_minor": 2
}
